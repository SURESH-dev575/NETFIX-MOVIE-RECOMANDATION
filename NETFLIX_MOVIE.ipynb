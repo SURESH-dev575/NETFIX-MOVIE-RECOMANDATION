{
 "cells": [
  {
   "cell_type": "code",
   "execution_count": null,
   "id": "eb88b219",
   "metadata": {},
   "outputs": [],
   "source": [
    "print('MACHINE LEARNING DATA WORKING ON NETFLIX DATA WITH THE RECAMANDATION WORKING SYSTEM')\n",
    "print('RECOMENDED THE MOVIES FOR SPECIFIC USER')"
   ]
  },
  {
   "cell_type": "code",
   "execution_count": null,
   "id": "258c41dc",
   "metadata": {},
   "outputs": [],
   "source": [
    "import pandas as pd\n",
    "import numpy as np\n",
    "import matplotlib.pyplot as plt\n",
    "import seaborn as sc\n",
    "\n",
    "df=pd.read_csv('/content/drive/MyDrive/NETFLIX/Copy of combined_data_1.txt.zip',header=None,names=['Cust_Id','Rating','Date'])\n",
    "df"
   ]
  },
  {
   "cell_type": "code",
   "execution_count": null,
   "id": "43bc01ac",
   "metadata": {},
   "outputs": [],
   "source": [
    "df.isnull().sum().sum()"
   ]
  },
  {
   "cell_type": "code",
   "execution_count": null,
   "id": "6fc903e0",
   "metadata": {},
   "outputs": [],
   "source": [
    "movie_id=None\n",
    "movie_np=[]\n",
    "\n",
    "for customer in df['Cust_Id']:\n",
    "  if \":\" in customer:\n",
    "    movie_id=int(customer.replace(\":\",\"\"))\n",
    "\n",
    "  movie_np.append(movie_id)\n",
    "\n"
   ]
  },
  {
   "cell_type": "code",
   "execution_count": null,
   "id": "d7608401",
   "metadata": {},
   "outputs": [],
   "source": [
    "df['Movie_id']=movie_np"
   ]
  },
  {
   "cell_type": "code",
   "execution_count": null,
   "id": "25759d96",
   "metadata": {},
   "outputs": [],
   "source": [
    "data=df['Movie_id'].value_counts()\n",
    "data.sort_index()"
   ]
  },
  {
   "cell_type": "code",
   "execution_count": null,
   "id": "e1d2b590",
   "metadata": {},
   "outputs": [],
   "source": [
    "df.dropna(inplace=True)\n",
    "df.shape"
   ]
  },
  {
   "cell_type": "code",
   "execution_count": null,
   "id": "d766689b",
   "metadata": {},
   "outputs": [],
   "source": [
    "df.index=df['Date']\n",
    "df.drop('Date',axis=1,inplace=True)\n",
    "df"
   ]
  },
  {
   "cell_type": "code",
   "execution_count": null,
   "id": "14783229",
   "metadata": {},
   "outputs": [],
   "source": [
    "sample=df['Movie_id'].value_counts()\n",
    "sample"
   ]
  },
  {
   "cell_type": "code",
   "execution_count": null,
   "id": "27db8327",
   "metadata": {},
   "outputs": [],
   "source": [
    "remove_movie_id=round(sample.quantile(0.6),2)\n",
    "remove_movie_id=sample[sample<remove_movie_id]\n",
    "remove_movie_id.index\n",
    "final_remove_movie_id_index=remove_movie_id.index"
   ]
  },
  {
   "cell_type": "code",
   "execution_count": null,
   "id": "065e22c7",
   "metadata": {},
   "outputs": [],
   "source": [
    "df.reset_index(drop=True,inplace=True)\n",
    "df"
   ]
  },
  {
   "cell_type": "code",
   "execution_count": null,
   "id": "3b0c30e3",
   "metadata": {},
   "outputs": [],
   "source": [
    "customer=df['Cust_Id'].value_counts()\n",
    "customer.sort_index()"
   ]
  },
  {
   "cell_type": "code",
   "execution_count": null,
   "id": "1cbf2490",
   "metadata": {},
   "outputs": [],
   "source": [
    "remove_customer_quantile=round(customer.quantile(0.6),2)\n",
    "remove_customer_quantile=customer[customer<remove_customer_quantile]\n",
    "remove_customer_quantile.index\n",
    "final_remove_customer_index=remove_customer_quantile.index"
   ]
  },
  {
   "cell_type": "code",
   "execution_count": null,
   "id": "0b1d7001",
   "metadata": {},
   "outputs": [],
   "source": [
    "final_remove_customer_index"
   ]
  },
  {
   "cell_type": "code",
   "execution_count": null,
   "id": "22ae2867",
   "metadata": {},
   "outputs": [],
   "source": [
    "final_remove_movie_id_index"
   ]
  },
  {
   "cell_type": "code",
   "execution_count": null,
   "id": "c564303a",
   "metadata": {},
   "outputs": [],
   "source": [
    "df=df[~df['Cust_Id'].isin(final_remove_customer_index)]\n",
    "df=df[~df['Movie_id'].isin(final_remove_movie_id_index)]\n",
    "df.shape"
   ]
  },
  {
   "cell_type": "code",
   "execution_count": null,
   "id": "611537d1",
   "metadata": {},
   "outputs": [],
   "source": [
    "df['Cust_Id']=df['Cust_Id'].astype(int)\n",
    "df['Movie_id']=df['Movie_id'].astype(int)\n",
    "df.info()"
   ]
  },
  {
   "cell_type": "code",
   "execution_count": null,
   "id": "4ed2150d",
   "metadata": {},
   "outputs": [],
   "source": [
    "df1=pd.read_csv('/content/drive/MyDrive/NETFLIX/Copy of movie_titles (4).csv',encoding='ISO-8859-1',header=None,names=['Movie_id','Year','Name'],usecols=[0,1,2])\n",
    "df1"
   ]
  },
  {
   "cell_type": "code",
   "execution_count": null,
   "id": "4dd512c1",
   "metadata": {},
   "outputs": [],
   "source": [
    "# !pip install numpy==1.23.5"
   ]
  },
  {
   "cell_type": "code",
   "execution_count": null,
   "id": "e001e4a3",
   "metadata": {},
   "outputs": [],
   "source": [
    "# !pip install scikit-surprise"
   ]
  },
  {
   "cell_type": "code",
   "execution_count": null,
   "id": "47339a85",
   "metadata": {},
   "outputs": [],
   "source": [
    "from surprise import SVD\n",
    "from surprise import Reader\n",
    "from surprise import Dataset\n",
    "from surprise.model_selection import cross_validate"
   ]
  },
  {
   "cell_type": "code",
   "execution_count": null,
   "id": "25eb7484",
   "metadata": {},
   "outputs": [],
   "source": [
    "reader=Reader()"
   ]
  },
  {
   "cell_type": "code",
   "execution_count": null,
   "id": "3fb111a7",
   "metadata": {},
   "outputs": [],
   "source": [
    "data=Dataset.load_from_df(df[['Movie_id','Cust_Id','Rating']][:100000],reader)\n"
   ]
  },
  {
   "cell_type": "code",
   "execution_count": null,
   "id": "f0ee9a03",
   "metadata": {},
   "outputs": [],
   "source": [
    "data\n",
    "model=SVD()"
   ]
  },
  {
   "cell_type": "code",
   "execution_count": null,
   "id": "ba8dd9cd",
   "metadata": {},
   "outputs": [],
   "source": [
    "cross_validate(model,data,measures=['RMSE'],cv=3)"
   ]
  },
  {
   "cell_type": "code",
   "execution_count": null,
   "id": "dc89f28d",
   "metadata": {},
   "outputs": [],
   "source": [
    "user_1331154= df[df['Cust_Id']==1331154]\n",
    "user_1331154"
   ]
  },
  {
   "cell_type": "code",
   "execution_count": null,
   "id": "d6ff30a7",
   "metadata": {},
   "outputs": [],
   "source": [
    "user_movie_data_1331154 = df1.copy()\n",
    "user_movie_data_1331154"
   ]
  },
  {
   "cell_type": "code",
   "execution_count": null,
   "id": "b15dbeb9",
   "metadata": {},
   "outputs": [],
   "source": [
    "user_movie_data_1331154=user_movie_data_1331154[~user_movie_data_1331154['Movie_id'].isin(final_remove_movie_id_index)]\n",
    "user_movie_data_1331154"
   ]
  },
  {
   "cell_type": "code",
   "execution_count": null,
   "id": "b783f8be",
   "metadata": {},
   "outputs": [],
   "source": [
    "user_movie_data_1331154['Predict']=user_movie_data_1331154['Movie_id'].apply(lambda x: model.predict(1331154,x).est)"
   ]
  },
  {
   "cell_type": "code",
   "execution_count": null,
   "id": "9e615026",
   "metadata": {},
   "outputs": [],
   "source": [
    "user_movie_data_1331154"
   ]
  }
 ],
 "metadata": {
  "language_info": {
   "name": "python"
  }
 },
 "nbformat": 4,
 "nbformat_minor": 5
}
